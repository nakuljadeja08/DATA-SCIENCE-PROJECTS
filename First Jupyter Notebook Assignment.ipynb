{
 "cells": [
  {
   "cell_type": "markdown",
   "id": "1a90f7d0",
   "metadata": {},
   "source": [
    "# NAKUL M JADEJA"
   ]
  },
  {
   "cell_type": "markdown",
   "id": "ede83e90",
   "metadata": {},
   "source": [
    "MY CURRENT OCCUPATION IS A DATA SCIENTIST\n"
   ]
  },
  {
   "cell_type": "markdown",
   "id": "9d9e240a",
   "metadata": {},
   "source": [
    "I am interested in data science because i love dealing with data."
   ]
  },
  {
   "cell_type": "markdown",
   "id": "73e95118",
   "metadata": {},
   "source": [
    "List of Data Science Languages:-\n",
    "\n",
    "1. Python\n",
    "2. Scala\n",
    "3. SQL\n",
    "4. R\n",
    "5. Julia\n",
    "6. SCADA\n"
   ]
  },
  {
   "cell_type": "markdown",
   "id": "a50afb7e",
   "metadata": {},
   "source": [
    "List of Data Science Libraries:-\n",
    "\n",
    "1. Keras\n",
    "2. Sci-kit\n",
    "3. Tensorflow\n",
    "4. Pytorch\n",
    "5. BeautifulSoup"
   ]
  },
  {
   "cell_type": "markdown",
   "id": "c25624bb",
   "metadata": {},
   "source": [
    "List of Data Science Tools:-\n",
    "\n",
    "1. Apache Spark\n",
    "2. KNIME\n",
    "3. Tensorflow\n",
    "4. SAS\n",
    "5. Apache Hadoop"
   ]
  },
  {
   "cell_type": "markdown",
   "id": "95d34a44",
   "metadata": {},
   "source": [
    "Arithimetic Expression Solving:-\n"
   ]
  },
  {
   "cell_type": "code",
   "execution_count": 1,
   "id": "ac5d0755",
   "metadata": {},
   "outputs": [
    {
     "data": {
      "text/plain": [
       "2"
      ]
     },
     "execution_count": 1,
     "metadata": {},
     "output_type": "execute_result"
    }
   ],
   "source": [
    "1+1"
   ]
  },
  {
   "cell_type": "code",
   "execution_count": 3,
   "id": "60e55729",
   "metadata": {},
   "outputs": [
    {
     "data": {
      "text/plain": [
       "4"
      ]
     },
     "execution_count": 3,
     "metadata": {},
     "output_type": "execute_result"
    }
   ],
   "source": [
    "2*2\n"
   ]
  },
  {
   "cell_type": "markdown",
   "id": "2d11f7c7",
   "metadata": {},
   "source": [
    "Converting hours to minutes:-\n",
    "\n",
    "1 hour= 60 minutes\n",
    "let's now convert 5 hours into minutes"
   ]
  },
  {
   "cell_type": "code",
   "execution_count": 4,
   "id": "b96b96cf",
   "metadata": {},
   "outputs": [
    {
     "data": {
      "text/plain": [
       "300"
      ]
     },
     "execution_count": 4,
     "metadata": {},
     "output_type": "execute_result"
    }
   ],
   "source": [
    "5*60"
   ]
  },
  {
   "cell_type": "markdown",
   "id": "e3063aa3",
   "metadata": {},
   "source": [
    "Unordered List:-\n",
    "\n",
    "* Python\n",
    "* ML\n",
    "* DL\n"
   ]
  },
  {
   "cell_type": "markdown",
   "id": "66e420ae",
   "metadata": {},
   "source": [
    "Author Details:-\n",
    "Nakul Jadeja\n",
    "nakuljadeja08@gmail.com"
   ]
  },
  {
   "cell_type": "code",
   "execution_count": null,
   "id": "55812426",
   "metadata": {},
   "outputs": [],
   "source": []
  },
  {
   "cell_type": "code",
   "execution_count": null,
   "id": "fd7c3fef",
   "metadata": {},
   "outputs": [],
   "source": []
  },
  {
   "cell_type": "code",
   "execution_count": null,
   "id": "1acfd7f7",
   "metadata": {},
   "outputs": [],
   "source": []
  }
 ],
 "metadata": {
  "kernelspec": {
   "display_name": "Python 3 (ipykernel)",
   "language": "python",
   "name": "python3"
  },
  "language_info": {
   "codemirror_mode": {
    "name": "ipython",
    "version": 3
   },
   "file_extension": ".py",
   "mimetype": "text/x-python",
   "name": "python",
   "nbconvert_exporter": "python",
   "pygments_lexer": "ipython3",
   "version": "3.10.4"
  }
 },
 "nbformat": 4,
 "nbformat_minor": 5
}
